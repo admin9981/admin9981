{
  "nbformat": 4,
  "nbformat_minor": 0,
  "metadata": {
    "colab": {
      "name": "Untitled5.ipynb",
      "provenance": [],
      "authorship_tag": "ABX9TyOEX1dFelG4hOtyKX1hFgAN",
      "include_colab_link": true
    },
    "kernelspec": {
      "name": "python3",
      "display_name": "Python 3"
    },
    "language_info": {
      "name": "python"
    }
  },
  "cells": [
    {
      "cell_type": "markdown",
      "metadata": {
        "id": "view-in-github",
        "colab_type": "text"
      },
      "source": [
        "<a href=\"https://colab.research.google.com/github/admin9981/admin9981/blob/main/Untitled5.ipynb\" target=\"_parent\"><img src=\"https://colab.research.google.com/assets/colab-badge.svg\" alt=\"Open In Colab\"/></a>"
      ]
    },
    {
      "cell_type": "markdown",
      "source": [
        "파이썬 버전 확인\n"
      ],
      "metadata": {
        "id": "WTVkngsc2SXq"
      }
    },
    {
      "cell_type": "code",
      "execution_count": 11,
      "metadata": {
        "colab": {
          "base_uri": "https://localhost:8080/"
        },
        "id": "zFAUBQAw2EFT",
        "outputId": "241f0783-0963-446f-fade-343b4fb28412"
      },
      "outputs": [
        {
          "output_type": "stream",
          "name": "stdout",
          "text": [
            "Python 3.7.13\n"
          ]
        }
      ],
      "source": [
        "[1]\n",
        "!python --version"
      ]
    },
    {
      "cell_type": "markdown",
      "source": [
        "\n",
        "불리안 타입 확인\n"
      ],
      "metadata": {
        "id": "AGKgh8UP2W-c"
      }
    },
    {
      "cell_type": "code",
      "source": [
        "[2]\n",
        "t,f=True,False\n",
        "print(type(t))"
      ],
      "metadata": {
        "colab": {
          "base_uri": "https://localhost:8080/"
        },
        "id": "YyiATL4u2XKQ",
        "outputId": "d9ff8d86-9960-4321-d6b6-4b8b70ae53c7"
      },
      "execution_count": 12,
      "outputs": [
        {
          "output_type": "stream",
          "name": "stdout",
          "text": [
            "<class 'bool'>\n"
          ]
        }
      ]
    },
    {
      "cell_type": "markdown",
      "source": [
        "cuda 사용이 가능한가?\n"
      ],
      "metadata": {
        "id": "eES4LfKJ2lfA"
      }
    },
    {
      "cell_type": "code",
      "source": [
        "import torch\n",
        "torch.cuda.is_available()"
      ],
      "metadata": {
        "colab": {
          "base_uri": "https://localhost:8080/"
        },
        "id": "9jar7YIC2lkN",
        "outputId": "a9d96e19-4592-4317-aa62-bd49b421f017"
      },
      "execution_count": 13,
      "outputs": [
        {
          "output_type": "execute_result",
          "data": {
            "text/plain": [
              "False"
            ]
          },
          "metadata": {},
          "execution_count": 13
        }
      ]
    },
    {
      "cell_type": "markdown",
      "source": [
        "gpu 사용량 확인"
      ],
      "metadata": {
        "id": "NS3CUt2T3VrN"
      }
    },
    {
      "cell_type": "code",
      "source": [
        "!nvidia-smi"
      ],
      "metadata": {
        "colab": {
          "base_uri": "https://localhost:8080/"
        },
        "id": "Mroh9z0m3V1E",
        "outputId": "92009e7b-30fb-407d-fd6d-d0b76cddcb42"
      },
      "execution_count": 14,
      "outputs": [
        {
          "output_type": "stream",
          "name": "stdout",
          "text": [
            "NVIDIA-SMI has failed because it couldn't communicate with the NVIDIA driver. Make sure that the latest NVIDIA driver is installed and running.\n",
            "\n"
          ]
        }
      ]
    },
    {
      "cell_type": "markdown",
      "source": [
        "1000000 loops 를 돌고 5개의 루프당 최고 1.05 µs로 돌았음 (속도 측정?)\n"
      ],
      "metadata": {
        "id": "7RWjyabj3kaM"
      }
    },
    {
      "cell_type": "code",
      "source": [
        "%timeit sum(range(100))"
      ],
      "metadata": {
        "colab": {
          "base_uri": "https://localhost:8080/"
        },
        "id": "i-zWEeLz3lrE",
        "outputId": "0f6756e3-9c20-4b55-8920-78c189ed87ed"
      },
      "execution_count": 15,
      "outputs": [
        {
          "output_type": "stream",
          "name": "stdout",
          "text": [
            "1000000 loops, best of 5: 1.05 µs per loop\n"
          ]
        }
      ]
    },
    {
      "cell_type": "markdown",
      "source": [
        "5번의 루프 동안 338ms의 속도를 냈다??\n"
      ],
      "metadata": {
        "id": "6ACnv-Bp5q5t"
      }
    },
    {
      "cell_type": "code",
      "source": [
        "%%timeit\n",
        "total =0\n",
        "for i in range(1000):\n",
        "  for j in range(1000):\n",
        "    total += i*(-1)**j"
      ],
      "metadata": {
        "colab": {
          "base_uri": "https://localhost:8080/"
        },
        "id": "deZhXIj95rJN",
        "outputId": "33c95c69-a64b-4b56-c555-7dd8e5046fc3"
      },
      "execution_count": 16,
      "outputs": [
        {
          "output_type": "stream",
          "name": "stdout",
          "text": [
            "1 loop, best of 5: 339 ms per loop\n"
          ]
        }
      ]
    },
    {
      "cell_type": "markdown",
      "source": [
        ""
      ],
      "metadata": {
        "id": "DBmnvBsU6LxP"
      }
    },
    {
      "cell_type": "code",
      "source": [
        "def sum_of_lists(N):\n",
        "  total =0\n",
        "  for i in range(5):\n",
        "    L=[j^(j>>i) for j in range(N)]\n",
        "    total += sum(L)\n",
        "  return total\n",
        "\n",
        "%prun sum_of_lists(1000000)"
      ],
      "metadata": {
        "colab": {
          "base_uri": "https://localhost:8080/"
        },
        "id": "hrTGxzjQ6L3F",
        "outputId": "522bba06-cc1e-46b4-c9bf-0ebf28546933"
      },
      "execution_count": 17,
      "outputs": [
        {
          "output_type": "stream",
          "name": "stdout",
          "text": [
            " "
          ]
        }
      ]
    }
  ]
}